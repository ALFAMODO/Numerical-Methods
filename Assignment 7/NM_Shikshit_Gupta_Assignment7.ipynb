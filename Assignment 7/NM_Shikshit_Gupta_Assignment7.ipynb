{
 "cells": [
  {
   "cell_type": "markdown",
   "id": "e4fa0adf",
   "metadata": {},
   "source": [
    "## Homework of today:\n",
    "\n",
    "#### Problem 1, Job Search\n",
    "You are spamming resumes to apply jobs. Each resume you send out has 1% chance of getting a job offer. You have sent 100 resumes. What's your chance to get at least one job offer?\n",
    "\n",
    "1. Please solve the problem by math. Use python mathematical expression to get the result.\n",
    "2. Analytic solution. Use pmf function to solve the problem.\n",
    "3. Answer by simulation. Use rvs function to simulate the process and estimate the answer.\n",
    "4. How many resumes in total do you have to spam so that you will have 90% chance to get at least one job offer?\n",
    "\n",
    "\n",
    "#### Problem 2, President Election Polls\n",
    "Half of the population supports the president (i.e., p=0.5). For a random sample of size 1000, what is the probability of having ≥550 in support of the president?\n",
    "\n",
    "1. Use binomial distribution\n",
    "2. Use normal distribution as approximation."
   ]
  },
  {
   "cell_type": "markdown",
   "id": "896c5afa",
   "metadata": {},
   "source": [
    "## Problem 1, Job Search"
   ]
  },
  {
   "cell_type": "code",
   "execution_count": 25,
   "id": "141af48e",
   "metadata": {},
   "outputs": [
    {
     "name": "stdout",
     "output_type": "stream",
     "text": [
      "The probability of getting at least one job offer is: 0.63\n"
     ]
    }
   ],
   "source": [
    "# Please solve the problem by math. Use python mathematical expression to get the result.\n",
    "\n",
    "probability_no_offer = 0.99\n",
    "\n",
    "# Number of resumes sent\n",
    "resumes = 100\n",
    "\n",
    "# Calculating the probability of not getting an offer from all 100 resumes\n",
    "probability_no_offer_all = probability_no_offer ** resumes\n",
    "\n",
    "# Calculating the probability of getting at least one offer\n",
    "probability_at_least_one_offer = 1 - probability_no_offer_all\n",
    "\n",
    "# Printing the result\n",
    "print(f\"The probability of getting at least one job offer is: {probability_at_least_one_offer:.2f}\")"
   ]
  },
  {
   "cell_type": "code",
   "execution_count": 26,
   "id": "aac2f137",
   "metadata": {},
   "outputs": [
    {
     "name": "stdout",
     "output_type": "stream",
     "text": [
      "0.63\n"
     ]
    }
   ],
   "source": [
    "#Analytic solution. Use pmf function to solve the problem.\n",
    "\n",
    "from math import comb\n",
    "\n",
    "n = 100\n",
    "k = 0\n",
    "p = 0.01\n",
    "\n",
    "# Probability mass function\n",
    "pmf = comb(n, k) * (p ** k) * ((1 - p) ** (n - k))\n",
    "\n",
    "# Probability of getting at least one job offer\n",
    "probability_at_least_one_offer = 1 - pmf\n",
    "print(f\"{probability_at_least_one_offer:.2f}\")"
   ]
  },
  {
   "cell_type": "code",
   "execution_count": 27,
   "id": "59d788ae",
   "metadata": {},
   "outputs": [
    {
     "name": "stdout",
     "output_type": "stream",
     "text": [
      "0.63264\n"
     ]
    }
   ],
   "source": [
    "#Answer by simulation. Use rvs function to simulate the process and estimate the answer.\n",
    "\n",
    "import numpy as np\n",
    "\n",
    "# Number of simulations\n",
    "simulations = 100000\n",
    "\n",
    "# Number of resumes sent and probability of getting a job offer\n",
    "n_resumes = 100\n",
    "p_offer = 0.01\n",
    "\n",
    "# Simulate the process\n",
    "simulations = np.random.binomial(n_resumes, p_offer, simulations)\n",
    "\n",
    "# Calculate the estimated probability of getting at least one job offer\n",
    "estimated_probability = np.mean(simulations > 0)\n",
    "\n",
    "print(f\"{estimated_probability}\")"
   ]
  },
  {
   "cell_type": "code",
   "execution_count": 28,
   "id": "a4bf9458",
   "metadata": {},
   "outputs": [
    {
     "name": "stdout",
     "output_type": "stream",
     "text": [
      "Number of resumes needed: 230\n"
     ]
    }
   ],
   "source": [
    "#How many resumes in total do you have to spam so that you will have 90% chance to get at least one job offer?\n",
    "\n",
    "import numpy as np\n",
    "\n",
    "# Target probability\n",
    "target_probability = 0.9\n",
    "\n",
    "# Probability of getting a job offer\n",
    "p_offer = 0.01\n",
    "\n",
    "# Use the inverse of the cumulative distribution function (percent-point function)\n",
    "n_resumes = np.ceil(np.log(1 - target_probability) / np.log(1 - p_offer)).astype(int)\n",
    "\n",
    "print(\"Number of resumes needed:\", n_resumes)\n"
   ]
  },
  {
   "cell_type": "markdown",
   "id": "8b876896",
   "metadata": {},
   "source": [
    "## Problem 2, President Election Polls"
   ]
  },
  {
   "cell_type": "code",
   "execution_count": 18,
   "id": "5357fb85",
   "metadata": {},
   "outputs": [
    {
     "name": "stdout",
     "output_type": "stream",
     "text": [
      "Probability of having at least 550 in support: 0.000865\n"
     ]
    }
   ],
   "source": [
    "from math import comb\n",
    "\n",
    "# Parameters\n",
    "n = 1000\n",
    "k_min = 550\n",
    "p = 0.5\n",
    "\n",
    "# Calculate the probability using the binomial distribution\n",
    "probability = sum(comb(n, k) * (p ** k) * ((1 - p) ** (n - k)) for k in range(k_min, n + 1))\n",
    "\n",
    "print(f\"Probability of having at least 550 in support: {probability:.6f}\")\n"
   ]
  },
  {
   "cell_type": "code",
   "execution_count": 24,
   "id": "d359f1de",
   "metadata": {},
   "outputs": [
    {
     "name": "stdout",
     "output_type": "stream",
     "text": [
      "Probability of having at least 550 in support (using normal approximation): 0.000872\n"
     ]
    }
   ],
   "source": [
    "from scipy.stats import norm\n",
    "\n",
    "# Parameters\n",
    "n = 1000\n",
    "k_min = 550\n",
    "p = 0.5\n",
    "\n",
    "# Mean and standard deviation for the normal approximation\n",
    "mu = n * p\n",
    "sigma = (n * p * (1 - p))**0.5\n",
    "\n",
    "# Calculate the probability using the normal distribution\n",
    "probability = 1 - norm.cdf(k_min - 0.5, loc=mu, scale=sigma)\n",
    "\n",
    "print(f\"Probability of having at least 550 in support (using normal approximation): {probability:.6f}\")\n"
   ]
  },
  {
   "cell_type": "code",
   "execution_count": null,
   "id": "d1dfc7ea",
   "metadata": {},
   "outputs": [],
   "source": []
  }
 ],
 "metadata": {
  "kernelspec": {
   "display_name": "Python 3 (ipykernel)",
   "language": "python",
   "name": "python3"
  },
  "language_info": {
   "codemirror_mode": {
    "name": "ipython",
    "version": 3
   },
   "file_extension": ".py",
   "mimetype": "text/x-python",
   "name": "python",
   "nbconvert_exporter": "python",
   "pygments_lexer": "ipython3",
   "version": "3.11.5"
  }
 },
 "nbformat": 4,
 "nbformat_minor": 5
}
